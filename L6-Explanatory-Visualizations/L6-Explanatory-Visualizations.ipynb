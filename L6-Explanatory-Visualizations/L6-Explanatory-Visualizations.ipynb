{
 "cells": [
  {
   "cell_type": "markdown",
   "metadata": {},
   "source": [
    "## Revisiting the Data Analysis Process\n",
    "\n",
    "As a reminder, let's briefly review the data analysis process and revisit the way that exploratory and explanatory visualizations fit into different parts of that process. The five steps of the data analysis process are:\n",
    "\n",
    "- **Extract** - Obtain the data from a spreadsheet, SQL, the web, etc.\n",
    "- **Clean** - Here we could use exploratory visuals.\n",
    "- **Explore** - Here we use exploratory visuals.\n",
    "- **Analyze** - Here we might use either exploratory or explanatory visuals.\n",
    "- **Share** - Here is where explanatory visuals live.\n",
    "\n",
    "<img src = \"https://github.com/user-attachments/assets/41d22aad-2146-412e-bf1f-c9b5cfd4706a\" height = \"300\"/>\n",
    "\n",
    "The previous three lessons in the course have been focused on exploratory analyses. In phases with exploratory visualizations, the primary audience for the visuals will be you, the analyst. The plots that have been created and demonstrated haven't been particularly polished, just descriptive enough for you to gain insights into the data.\n",
    "\n",
    "This lesson is focused on taking those insights and creating explanatory analyses. Here, your audience will be broader: your goal will be to convey your findings to other people who don't have the level of hands-on experience with the data as you. Visualizations under this banner should be focused on telling a specific story that you want to convey to that particular audience. Many times, these visualizations evolve from visuals created during the exploratory process, just polished up to highlight the specific intended insights. These highlights might change depending on the audience you're presenting to. You'll revisit those design concepts from earlier in the course to make your plots informative not just for yourself, but also compelling and understandable for others.\n",
    "\n",
    "![image](https://github.com/user-attachments/assets/8da0d50c-a350-451c-a149-1c1c97573e6a)"
   ]
  },
  {
   "cell_type": "markdown",
   "metadata": {},
   "source": [
    "## Telling stories with data follows these steps:\n",
    "\n",
    "- Start with a Question\n",
    "- Repetition is a Good Thing\n",
    "- Highlight the Answer\n",
    "- Call Your Audience To Action"
   ]
  },
  {
   "cell_type": "markdown",
   "metadata": {},
   "source": [
    "## Solution: Data Story Telling\n",
    "\n",
    "The question I want to answer in this practice is that \"Do more students feel science is interesting after attending the science camp?\" To answer this question, I built a stacked bar chart that highlights the comparison of the percentage in student's feelings before and after the science camp.\n",
    "\n",
    "As you can see, although a similar percentage of students who feel science is not great or boring, it's very clear that there is a large increase in the percentage of students who feel science is interesting or exciting.\n",
    "\n",
    "So my conclusion is that we should have more science camps because they will increase student's interest in science.\n",
    "\n",
    "![screen-shot-2021-05-20-at-11 33 27-am](https://github.com/user-attachments/assets/88f7feb9-6f4c-4847-8a85-996217db3f48)"
   ]
  },
  {
   "cell_type": "markdown",
   "metadata": {},
   "source": [
    "## My solution\n",
    "- Used the gradient pallete to indicate the order.\n",
    "- removed the axes\n",
    "\n",
    "![image](https://github.com/user-attachments/assets/6c6fd861-f9cd-4d19-9714-76096c268bf8)\n",
    "\n",
    "![image](https://github.com/user-attachments/assets/4048708c-64df-449b-ad87-9a22eb9c2687)"
   ]
  },
  {
   "cell_type": "markdown",
   "metadata": {},
   "source": [
    "## Polishing Plots\n",
    "\n",
    "Thus far in the course, the code you've seen has been fairly bare-bones, just enough to get your plots created. In order to convey your findings to others quickly and efficiently, you'll need to put work into polishing your plots. There are many dimensions to consider when putting together a polished plot.\n",
    "\n",
    "### Choose an appropriate plot\n",
    "\n",
    "Your choice of plot will depend on the number of variables that you have and their types: nominal, ordinal, discrete numeric, or continuous. Choice of plot also depends on the specific relationship that you want to convey. For example, whether you choose a violin plot, box plot, or adapted bar chart depends on how much data you have and whether distributions are significant or important. You'll be more likely to use a violin plot if you have a lot of data and the distributions are meaningful, and more inclined to use a box plot or bar chart if you have less data, or the distributions are less reliable.\n",
    "\n",
    "### Choose appropriate encodings\n",
    "\n",
    "Your variables should impact not just the type of plot that is chosen, but also the variable encodings. For example, if you have three numeric variables, you shouldn't just assign x-position, y-position, and color encodings randomly. In many cases, the two variables that are most important should take the positional encodings; if one represents an outcome or dependent variable, then it should be plotted on the y-axis. In other cases, it makes sense to plot the dependent measure with color, as though you are taking a top-down view of the plane defined by the two independent measures plotted on the axes.\n",
    "\n",
    "### Pay attention to design integrity\n",
    "\n",
    "When setting up your plotting parameters, remember the design principles from earlier in the course.\n",
    "\n",
    "Make sure that you minimize chart junk and maximize the data-ink ratio, as far as it maintains good interpretability of the data. When deciding whether or not to add non-positional encodings, make sure that they are meaningful. For example, using color in a frequency bar chart may not be necessary on its own, but will be useful if those colors are used again later in the same presentation, matched with their original groups. By the same token, avoid using the same color scheme for different variables to minimize the chance of reader confusion.\n",
    "\n",
    "You should also ensure that your plot avoids lie factors as much as possible. If you have a bar chart or histogram, it is best to anchor them to a 0 baseline. If you're employing a scale transformation, signal this clearly in the title, axis labels, and tick marks.\n",
    "\n",
    "### Label axes and choose appropriate tick marks\n",
    "\n",
    "For your positional axes, make sure you include axis labels. This is less important in exploration when you have the code available and have an extended flow to your work, but when you're conveying only the key pieces to others, it's crucial. When you add an axis label, make sure you also provide the units of measurement, if applicable (e.g., stating \"Height (cm)\" rather than just \"Height\").\n",
    "\n",
    "As for tick marks, you should include at least three tick marks on each axis. This is especially important for data that has been transformed: you want enough tick marks so that the scale of the data can be communicated there. If your values are very large or very small numbers, consider using abbreviations to relabel the ticks (e.g., use \"250K\" instead of \"250000\").\n",
    "\n",
    "### Provide legends for non-positional variables\n",
    "\n",
    "Make sure that you add a legend for variables not depicted on the axes of your plot. For color encoding, you can add a color bar to the side of the plot. The most important new thing here is that you provide a descriptive label to your legend or color bar, just as you would the axes of your plot.\n",
    "\n",
    "### Title your plot and include descriptive comments\n",
    "\n",
    "Finally, make sure that you provide a descriptive title to your plot. If this is a key plot that presents important findings to others, aim to create a title that draws attention to those main points, rather than just state what variables are plotted.\n",
    "\n",
    "Also, realize that while a visualization might be the core mechanism by which you convey findings, it need not stand alone. Comments in the text below or surrounding the plot can provide valuable context to help the reader understand your message, or reinforce the main points that they should have gotten."
   ]
  }
 ],
 "metadata": {
  "language_info": {
   "name": "python"
  }
 },
 "nbformat": 4,
 "nbformat_minor": 2
}
