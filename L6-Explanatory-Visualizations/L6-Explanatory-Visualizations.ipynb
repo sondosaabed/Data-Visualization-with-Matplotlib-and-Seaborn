{
 "cells": [
  {
   "cell_type": "markdown",
   "metadata": {},
   "source": [
    "## Revisiting the Data Analysis Process\n",
    "\n",
    "As a reminder, let's briefly review the data analysis process and revisit the way that exploratory and explanatory visualizations fit into different parts of that process. The five steps of the data analysis process are:\n",
    "\n",
    "- **Extract** - Obtain the data from a spreadsheet, SQL, the web, etc.\n",
    "- **Clean** - Here we could use exploratory visuals.\n",
    "- **Explore** - Here we use exploratory visuals.\n",
    "- **Analyze** - Here we might use either exploratory or explanatory visuals.\n",
    "- **Share** - Here is where explanatory visuals live.\n",
    "\n",
    "<img src = \"https://github.com/user-attachments/assets/41d22aad-2146-412e-bf1f-c9b5cfd4706a\" height = \"300\"/>\n",
    "\n",
    "The previous three lessons in the course have been focused on exploratory analyses. In phases with exploratory visualizations, the primary audience for the visuals will be you, the analyst. The plots that have been created and demonstrated haven't been particularly polished, just descriptive enough for you to gain insights into the data.\n",
    "\n",
    "This lesson is focused on taking those insights and creating explanatory analyses. Here, your audience will be broader: your goal will be to convey your findings to other people who don't have the level of hands-on experience with the data as you. Visualizations under this banner should be focused on telling a specific story that you want to convey to that particular audience. Many times, these visualizations evolve from visuals created during the exploratory process, just polished up to highlight the specific intended insights. These highlights might change depending on the audience you're presenting to. You'll revisit those design concepts from earlier in the course to make your plots informative not just for yourself, but also compelling and understandable for others.\n",
    "\n",
    "![image](https://github.com/user-attachments/assets/8da0d50c-a350-451c-a149-1c1c97573e6a)"
   ]
  },
  {
   "cell_type": "markdown",
   "metadata": {},
   "source": [
    "## Telling stories with data follows these steps:\n",
    "\n",
    "- Start with a Question\n",
    "- Repetition is a Good Thing\n",
    "- Highlight the Answer\n",
    "- Call Your Audience To Action"
   ]
  },
  {
   "cell_type": "markdown",
   "metadata": {},
   "source": [
    "## Solution: Data Story Telling\n",
    "\n",
    "The question I want to answer in this practice is that \"Do more students feel science is interesting after attending the science camp?\" To answer this question, I built a stacked bar chart that highlights the comparison of the percentage in student's feelings before and after the science camp.\n",
    "\n",
    "As you can see, although a similar percentage of students who feel science is not great or boring, it's very clear that there is a large increase in the percentage of students who feel science is interesting or exciting.\n",
    "\n",
    "So my conclusion is that we should have more science camps because they will increase student's interest in science.\n",
    "\n",
    "![screen-shot-2021-05-20-at-11 33 27-am](https://github.com/user-attachments/assets/88f7feb9-6f4c-4847-8a85-996217db3f48)"
   ]
  },
  {
   "cell_type": "markdown",
   "metadata": {},
   "source": [
    "## My solution\n",
    "- Used the gradient pallete to indicate the order.\n",
    "- removed the axes\n",
    "\n",
    "![image](https://github.com/user-attachments/assets/6c6fd861-f9cd-4d19-9714-76096c268bf8)\n",
    "\n",
    "![image](https://github.com/user-attachments/assets/4048708c-64df-449b-ad87-9a22eb9c2687)"
   ]
  }
 ],
 "metadata": {
  "language_info": {
   "name": "python"
  }
 },
 "nbformat": 4,
 "nbformat_minor": 2
}
