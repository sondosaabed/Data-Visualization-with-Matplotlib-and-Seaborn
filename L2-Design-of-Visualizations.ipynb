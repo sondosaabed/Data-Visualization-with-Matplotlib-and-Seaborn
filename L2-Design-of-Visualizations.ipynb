{
 "cells": [
  {
   "cell_type": "markdown",
   "metadata": {},
   "source": [
    "## Visuals can be bad if they:\n",
    "\n",
    "1. Don't convey the desired message.\n",
    "2. Are misleading. for example if you zoom in you'll find out that the diffrence is not that much big)\n",
    "3. Hides your message (using pie two pies to convey a message with many colors and it's hard to tell as if you're hiding the message.)"
   ]
  },
  {
   "cell_type": "markdown",
   "metadata": {},
   "source": [
    "## Data types\n",
    "1. Nominal: labels\n",
    "2. Ordinal: they include intrinsic ordering\n",
    "3. Interval: meaningful zero point.\n",
    "4. Ratio\n",
    "\n",
    "1 and 2 are qualitative or categorical types\n",
    "3 and 4 are quantitative or numerical types, these could be discrete(specific) or continuous (any value). Allow mathematical operations"
   ]
  },
  {
   "cell_type": "markdown",
   "metadata": {},
   "source": [
    "## The Four Levels of Measurement\n",
    "In order to choose an appropriate plot type or method of analysis for your data, you need to understand the types of data you have. One common method divides the data into four levels of measurement:\n",
    "\n",
    "### Qualitative or categorical types (non-numeric types)\n",
    "1. Nominal data: pure labels without inherent order (no label is intrinsically greater or less than any other)\n",
    "2. Ordinal data: labels with an intrinsic order or ranking (comparison operations can be made between values, but the magnitude of differences are not be well-defined)\n",
    "\n",
    "### Quantitative or numeric types\n",
    "3. Interval data: numeric values where absolute differences are meaningful (addition and subtraction operations can be made)\n",
    "4. Ratio data: numeric values where relative differences are meaningful (multiplication and division operations can be made)\n",
    "\n",
    "All quantitative-type variables also come in one of two varieties: discrete and continuous.\n",
    "\n",
    "- Discrete quantitative variables can only take on a specific set values at some maximum level of precision.\n",
    "- Continuous quantitative variables can (hypothetically) take on values to any level of precision.\n",
    "\n",
    "Distinguishing between continuous and discrete can be a little tricky – a rule of thumb is if there are few levels, and values can't be subdivided into further units, then it's discrete. Otherwise, it's continuous. If you have a scale that can only take natural number values between 1 and 5, that's discrete. A quantity that can be measured to two digits, e.g. 2.72, is best characterized as continuous, since we might hypothetically be able to measure to even more digits, e.g. 2.718. A tricky case like test scores measured between 0 and 100 can only be divided down to single integers, making it initially seem discrete. But since there are so many values, such a feature is usually considered as continuous.\n",
    "\n",
    "When exploring your data, the most important thing to consider first is whether your data is qualitative or quantitative. In later lessons, you will see how this distinction impacts your choice of plots."
   ]
  },
  {
   "cell_type": "markdown",
   "metadata": {},
   "source": [
    "Likert data is often treated as interval to simplify analyses. or ordinal. /it could be 1 to 5 with neutrality or 1 to 6 without neutrality."
   ]
  }
 ],
 "metadata": {
  "language_info": {
   "name": "python"
  }
 },
 "nbformat": 4,
 "nbformat_minor": 2
}
