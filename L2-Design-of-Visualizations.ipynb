{
 "cells": [
  {
   "cell_type": "markdown",
   "metadata": {},
   "source": [
    "## Visuals can be bad if they:\n",
    "\n",
    "1. Don't convey the desired message.\n",
    "2. Are misleading. for example if you zoom in you'll find out that the diffrence is not that much big)\n",
    "3. Hides your message (using pie two pies to convey a message with many colors and it's hard to tell as if you're hiding the message.)"
   ]
  },
  {
   "cell_type": "markdown",
   "metadata": {},
   "source": [
    "## Data types\n",
    "1. Nominal: labels\n",
    "2. Ordinal: they include intrinsic ordering\n",
    "3. Interval: meaningful zero point.\n",
    "4. Ratio\n",
    "\n",
    "1 and 2 are qualitative or categorical types\n",
    "3 and 4 are quantitative or numerical types, these could be discrete(specific) or continuous (any value). Allow mathematical operations"
   ]
  },
  {
   "cell_type": "markdown",
   "metadata": {},
   "source": [
    "## The Four Levels of Measurement\n",
    "In order to choose an appropriate plot type or method of analysis for your data, you need to understand the types of data you have. One common method divides the data into four levels of measurement:\n",
    "\n",
    "### Qualitative or categorical types (non-numeric types)\n",
    "1. Nominal data: pure labels without inherent order (no label is intrinsically greater or less than any other)\n",
    "2. Ordinal data: labels with an intrinsic order or ranking (comparison operations can be made between values, but the magnitude of differences are not be well-defined)\n",
    "\n",
    "### Quantitative or numeric types\n",
    "3. Interval data: numeric values where absolute differences are meaningful (addition and subtraction operations can be made)\n",
    "4. Ratio data: numeric values where relative differences are meaningful (multiplication and division operations can be made)\n",
    "\n",
    "All quantitative-type variables also come in one of two varieties: discrete and continuous.\n",
    "\n",
    "- Discrete quantitative variables can only take on a specific set values at some maximum level of precision.\n",
    "- Continuous quantitative variables can (hypothetically) take on values to any level of precision.\n",
    "\n",
    "Distinguishing between continuous and discrete can be a little tricky – a rule of thumb is if there are few levels, and values can't be subdivided into further units, then it's discrete. Otherwise, it's continuous. If you have a scale that can only take natural number values between 1 and 5, that's discrete. A quantity that can be measured to two digits, e.g. 2.72, is best characterized as continuous, since we might hypothetically be able to measure to even more digits, e.g. 2.718. A tricky case like test scores measured between 0 and 100 can only be divided down to single integers, making it initially seem discrete. But since there are so many values, such a feature is usually considered as continuous.\n",
    "\n",
    "When exploring your data, the most important thing to consider first is whether your data is qualitative or quantitative. In later lessons, you will see how this distinction impacts your choice of plots."
   ]
  },
  {
   "cell_type": "markdown",
   "metadata": {},
   "source": [
    "Likert data is often treated as interval to simplify analyses. or ordinal. /it could be 1 to 5 with neutrality or 1 to 6 without neutrality."
   ]
  },
  {
   "cell_type": "markdown",
   "metadata": {},
   "source": [
    "> Visuals = mapping(data)-> display elements"
   ]
  },
  {
   "cell_type": "markdown",
   "metadata": {},
   "source": [
    "## display elements\n",
    "- x_axis\n",
    "- y_axis\n",
    "- texture\n",
    "- size\n",
    "- shape\n",
    "- angle\n",
    "- length"
   ]
  },
  {
   "cell_type": "markdown",
   "metadata": {},
   "source": [
    "Experts and researchers have determined the types of visual patterns that allow humans to best understand certain information. In general, humans are able to best understand data encoded with positional changes (differences in x- and y- position as we see with scatterplots) and length changes (differences in box heights as we see with bar charts and histograms).\n",
    "\n",
    "Alternatively, humans struggle with understanding data encoded with color hue changes (as are unfortunately commonly used as an additional variable encoding in scatter plots - we'll study this in upcoming concepts) and area changes (as we see in pie charts, which often makes them not the best plot choice)."
   ]
  },
  {
   "cell_type": "markdown",
   "metadata": {},
   "source": [
    "## Chart junk \n",
    "Chart junk refers to all visual elements in charts and graphs that are not necessary to comprehend the information represented on the graph or that distract the viewer from this information.\n",
    "\n",
    "Examples of chart junk you saw in this video include:\n",
    "\n",
    "1. Heavy grid lines\n",
    "2. Unnecessary text\n",
    "3. Pictures surrounding the visual\n",
    "4. Shading or 3d components\n",
    "5. Ornamented chart axes"
   ]
  },
  {
   "cell_type": "markdown",
   "metadata": {},
   "source": [
    "## data-ink ratio\n",
    "The data-ink ratio, credited to Edward Tufte, is directly related to the idea of chart junk. The more of the ink in your visual that is related to conveying the message in the data, the better.\n",
    "\n",
    "Limiting chart junk increases the data-ink ratio.\n",
    "\n",
    "![image](https://github.com/sondosaabed/Data-Visualization-with-Matplotlib-and-Seaborn/assets/65151701/d5b55ef9-ca83-4221-b18b-d19e5003ab50)\n"
   ]
  },
  {
   "cell_type": "markdown",
   "metadata": {},
   "source": [
    "## Design Integrity Notes\n",
    "It is key that when you build plots you maintain integrity for the underlying data.\n",
    "\n",
    "One of the main ways discussed here for looking at data integrity was with the lie factor. Lie factor depicts the degree to which a visualization distorts or misrepresents the data values being plotted. It is calculated in the following way:\n",
    "\n",
    "![image](https://github.com/sondosaabed/Data-Visualization-with-Matplotlib-and-Seaborn/assets/65151701/a1b7867a-16ff-45c0-af99-39420f341359)\n",
    "\n",
    "The delta symbol (Δ) stands for difference or change. In words, the lie factor is the relative change shown in the graphic divided by the actual relative change in the data. Ideally, the lie factor should be 1: any other value means that there is some mismatch in the ratio of depicted change to actual change.\n",
    "\n",
    "https://flowingdata.com/2017/02/09/how-to-spot-visualization-lies/"
   ]
  },
  {
   "cell_type": "markdown",
   "metadata": {},
   "source": [
    "## Using Colors\n",
    "Color can both help and hurt a data visualization. Three tips for using color effectively.\n",
    "\n",
    "- Before adding color to a visualization, start with black and white.\n",
    "- When using color, use less intense colors - not all the colors of the rainbow, which is the default in many software applications.\n",
    "- Color for communication. Use color to highlight your message and separate groups of interest. Don't add color just to have color in your visualization.\n",
    "\n",
    "To be sensitive to those with colorblindness, you should use color palettes that do not move from red to green without using another element to distinguish this change like shape, position, or lightness. Both of these colors appear in a yellow tint to individuals with the most common types of colorblindness. Instead, use colors on a blue to orange palette.\n",
    "\n",
    "https://www.tableau.com/blog/examining-data-viz-rules-dont-use-red-green-together"
   ]
  }
 ],
 "metadata": {
  "language_info": {
   "name": "python"
  }
 },
 "nbformat": 4,
 "nbformat_minor": 2
}
