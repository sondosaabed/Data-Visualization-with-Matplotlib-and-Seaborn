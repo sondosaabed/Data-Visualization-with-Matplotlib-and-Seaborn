{
 "cells": [
  {
   "cell_type": "markdown",
   "metadata": {},
   "source": [
    "## Intro."
   ]
  },
  {
   "cell_type": "markdown",
   "metadata": {},
   "source": [
    "## Exploratory Data visualization\n",
    "Are used to undersatnd teh structure of the data faster than statics will be able alone. \n",
    "Used once started to invistigated the gathered data.\n"
   ]
  },
  {
   "cell_type": "markdown",
   "metadata": {},
   "source": [
    "## Explanoraty Data Visualization\n",
    "Are created at the end of the anlysis. To convey the findings to others or to tell a story."
   ]
  },
  {
   "cell_type": "markdown",
   "metadata": {},
   "source": [
    "## Data Visualization in Data Analysis\n",
    "When the mean, the variance, and the standard deviation are all the same between four different datasets.\n",
    "https://www.research.autodesk.com/publications/same-stats-different-graphs/\n",
    "\n",
    "![](https://www.research.autodesk.com/app/uploads/2023/03/DinoSequential-1.gif)"
   ]
  },
  {
   "cell_type": "markdown",
   "metadata": {},
   "source": [
    "## Exploratory vs. Explanatory Analyses\n",
    "\n",
    "1. **Exploratory analysis** is done when you are searching for insights. These visualizations don't need to be perfect. You are using plots to find insights, but they don't need to be aesthetically appealing. You are the consumer of these plots, and you need to be able to find the answer to your questions from these plots.\n",
    "\n",
    "2. **Explanatory analysis** is done when you are providing your results for others. These visualizations need to provide you the emphasis necessary to convey your message. They should be accurate, insightful, and visually appealing."
   ]
  },
  {
   "cell_type": "markdown",
   "metadata": {},
   "source": [
    "## The five steps of the data analysis process:\n",
    "\n",
    "1. Extract - Obtain the data from a spreadsheet, SQL, the web, etc.\n",
    "2. Clean - Here, we could use exploratory visuals.\n",
    "3. Explore - Here, we use exploratory visuals.\n",
    "4. Analyze - Here, we might use either exploratory or explanatory visuals.\n",
    "5. Share - Here is where explanatory visuals live."
   ]
  },
  {
   "cell_type": "markdown",
   "metadata": {},
   "source": [
    "## Libraries\n",
    "- Matplot lib\n",
    "- Pandas\n",
    "- Seaborn"
   ]
  }
 ],
 "metadata": {
  "language_info": {
   "name": "python"
  }
 },
 "nbformat": 4,
 "nbformat_minor": 2
}
