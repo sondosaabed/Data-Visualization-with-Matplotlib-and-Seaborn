{
 "cells": [
  {
   "cell_type": "markdown",
   "metadata": {},
   "source": [
    "## Overviw \n",
    "1. Create bar charts for qualitative variables, for example, the amount (number) of eggs consumed in a meal (categories: {breakfast, lunch, or dinner}). In general, bar chart maps categories to numbers.\n",
    "2. Create Pie charts. A pie chart is a common univariate plot type that is used to depict relative frequencies for levels of a categorical variable. A pie chart is preferably used when the number of categories is less, and you'd like to see the proportion of each category.\n",
    "3. Create histograms for quantitative variables. A histogram splits the (tabular) data into evenly sized intervals and displays the count of rows in each interval with bars. A histogram is similar to a bar chart, except that the \"category\" here is a range of values.\n",
    "4. Analyze the bar charts and histograms.\n"
   ]
  },
  {
   "cell_type": "markdown",
   "metadata": {},
   "source": [
    "## Tidy Dataset\n",
    "In short, a tidy dataset(opens in a new tab) is a tabular dataset where:\n",
    "\n",
    "1. each variable is a column\n",
    "2. each observation is a row\n",
    "3. each type of observational unit is a table\n",
    "\n",
    "- Each variable in a tidy dataset must have its own column\n",
    "- Each observation in a tidy dataset must have its own row\n",
    "- Each observational unit in a tidy dataset must have its own table\n",
    "- Only the second rule of tidy data is satisfied in this non-tidy representation of the above data: each observation forms a row\n",
    "\n",
    "https://cran.r-project.org/web/packages/tidyr/vignettes/tidy-data.html"
   ]
  }
 ],
 "metadata": {
  "language_info": {
   "name": "python"
  }
 },
 "nbformat": 4,
 "nbformat_minor": 2
}
