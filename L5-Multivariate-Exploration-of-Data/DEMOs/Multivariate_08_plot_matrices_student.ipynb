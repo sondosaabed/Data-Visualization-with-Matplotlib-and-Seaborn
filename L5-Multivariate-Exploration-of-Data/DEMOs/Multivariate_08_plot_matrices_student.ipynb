{
 "cells": [
  {
   "cell_type": "markdown",
   "metadata": {},
   "source": [
    "# L8 Plot Matrices"
   ]
  },
  {
   "cell_type": "code",
   "execution_count": 1,
   "metadata": {},
   "outputs": [
    {
     "name": "stderr",
     "output_type": "stream",
     "text": [
      "c:\\Users\\SS\\AppData\\Local\\Programs\\Python\\Python311\\Lib\\site-packages\\scipy\\__init__.py:169: UserWarning: A NumPy version >=1.18.5 and <1.26.0 is required for this version of SciPy (detected version 1.26.4\n",
      "  warnings.warn(f\"A NumPy version >={np_minversion} and <{np_maxversion}\"\n"
     ]
    }
   ],
   "source": [
    "import numpy as np\n",
    "import pandas as pd\n",
    "\n",
    "import matplotlib.pyplot as plt\n",
    "import seaborn as sns"
   ]
  },
  {
   "cell_type": "markdown",
   "metadata": {},
   "source": [
    "Let's say that we're interested in looking at the pairwise relationships between all of our numerical variables. Instead of plotting scatter plots one-by-one, we can inspect them all at once using something called a plot matrix.\n",
    "\n",
    "Let's start by importing our fuel efficiency data set and get to work!"
   ]
  },
  {
   "cell_type": "code",
   "execution_count": 2,
   "metadata": {},
   "outputs": [],
   "source": [
    "# load dataset\n",
    "df = pd.read_csv('../../Data/fuel-econ.csv')\n",
    "\n",
    "# create transmission type column\n",
    "df['trans_type'] = df['trans'].apply(lambda x:x.split()[0])"
   ]
  },
  {
   "cell_type": "markdown",
   "metadata": {},
   "source": [
    "To  create a plot matrix, we will use Seaborns `PairGrid` function. If vars is not specified, then all numeric variables in the data frame will be put into the plot.\n",
    "\n",
    "Note it takes a long time to generate if we use all variables!"
   ]
  },
  {
   "cell_type": "code",
   "execution_count": 3,
   "metadata": {},
   "outputs": [],
   "source": [
    "g = sns.PairGrid(data=df)\n",
    "g.map_offdiag(plt.scatter);\n",
    "g.map_diag(plt.hist);"
   ]
  },
  {
   "cell_type": "markdown",
   "metadata": {},
   "source": [
    "WHOA! That's a lot. Let's just focus on 4 specific variables here."
   ]
  },
  {
   "cell_type": "code",
   "execution_count": null,
   "metadata": {},
   "outputs": [],
   "source": [
    "# Plot Matrix: fuel efficiency stats\n",
    "stats = ['highway', 'city', 'displ', 'co2']\n",
    "g = sns.PairGrid(data=df, vars=stats);\n",
    "g.map_offdiag(plt.scatter);\n",
    "g.map_diag(plt.hist);"
   ]
  },
  {
   "cell_type": "markdown",
   "metadata": {},
   "source": [
    "So each row and column works with a variable. Here I put a scatter plot in each cell, and the diagonal has a histogram of that variable. This makes it easier to compare various combinations of variables.\n",
    "\n",
    "Note that there is a symmetry in a PairGrid, with x and y axes flipped across the diagonal."
   ]
  },
  {
   "cell_type": "markdown",
   "metadata": {},
   "source": [
    "## Correlation matrix"
   ]
  },
  {
   "cell_type": "markdown",
   "metadata": {},
   "source": [
    "Another useful thing common in analysis is plotting a correlation matrix. We do this by first extracting the correlation from the data framce, and then dropping this into a heatmap.\n",
    "\n",
    "This shows that city and highway mpg is highly correlated - not shocking. Also is that engine size and emissions are highly correlated, which is expected. Fuel efficiency and engine size, and therefore co2 emissions are highly anti-correlated."
   ]
  },
  {
   "cell_type": "code",
   "execution_count": null,
   "metadata": {},
   "outputs": [],
   "source": [
    "# Correlations Heatmap\n",
    "sns.heatmap(df[stats].corr(), cmap='rocket_r', annot=True,\n",
    "          fmt='.2f', vmin=-1, square=True);"
   ]
  }
 ],
 "metadata": {
  "kernelspec": {
   "display_name": "Python 3 (ipykernel)",
   "language": "python",
   "name": "python3"
  },
  "language_info": {
   "codemirror_mode": {
    "name": "ipython",
    "version": 3
   },
   "file_extension": ".py",
   "mimetype": "text/x-python",
   "name": "python",
   "nbconvert_exporter": "python",
   "pygments_lexer": "ipython3",
   "version": "3.11.0"
  }
 },
 "nbformat": 4,
 "nbformat_minor": 4
}
