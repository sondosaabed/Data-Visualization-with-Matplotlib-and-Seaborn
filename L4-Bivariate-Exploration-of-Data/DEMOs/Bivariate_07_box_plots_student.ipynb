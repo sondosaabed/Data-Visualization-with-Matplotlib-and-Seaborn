{
 "cells": [
  {
   "cell_type": "markdown",
   "metadata": {},
   "source": [
    "# 06 - Box Plots"
   ]
  },
  {
   "cell_type": "markdown",
   "metadata": {},
   "source": [
    "Let's start this lesson as we always do: by importing our libraries and data sets."
   ]
  },
  {
   "cell_type": "code",
   "execution_count": null,
   "metadata": {},
   "outputs": [],
   "source": [
    "import numpy as np\n",
    "import pandas as pd\n",
    "\n",
    "import matplotlib.pyplot as plt\n",
    "import seaborn as sns"
   ]
  },
  {
   "cell_type": "code",
   "execution_count": null,
   "metadata": {},
   "outputs": [],
   "source": [
    "df = pd.read_csv('..//data/fuel-econ.csv')\n",
    "df.shape"
   ]
  },
  {
   "cell_type": "code",
   "execution_count": null,
   "metadata": {},
   "outputs": [],
   "source": [
    "df.head(5)"
   ]
  },
  {
   "cell_type": "markdown",
   "metadata": {},
   "source": [
    "## Introduction to Box Plots"
   ]
  },
  {
   "cell_type": "markdown",
   "metadata": {},
   "source": [
    "You saw how violin plots can be used to depict the relationship between a quantitative variable and a qualitative variable. An alternative plot that you might want to use, is the box plot.\n",
    "\n",
    "Both matplotlib and Seaborn have a method `boxplot`."
   ]
  },
  {
   "cell_type": "code",
   "execution_count": null,
   "metadata": {},
   "outputs": [],
   "source": [
    "# Types of sedan cars\n",
    "sedan_classes = ['Minicompact Cars', 'Subcompact Cars', 'Compact Cars', 'Midsize Cars', 'Large Cars']\n",
    "\n",
    "# Returns the types for sedan_classes with the categories and orderedness\n",
    "# Refer - https://pandas.pydata.org/pandas-docs/version/0.23.4/generated/pandas.api.types.CategoricalDtype.html\n",
    "vclasses = pd.CategoricalDtype(ordered=True, categories=sedan_classes)\n",
    "\n",
    "# Use pandas.astype() to convert the \"VClass\" column from a plain object type into an ordered categorical type \n",
    "df['VClass'] = df['VClass'].astype(vclasses);"
   ]
  },
  {
   "cell_type": "code",
   "execution_count": null,
   "metadata": {},
   "outputs": [],
   "source": [
    "ax1 = sns.boxplot(data=df, x='VClass', y='comb', color='tab:blue')\n",
    "plt.xticks(rotation=15);\n",
    "plt.ylim(ax1.get_ylim())"
   ]
  },
  {
   "cell_type": "markdown",
   "metadata": {},
   "source": [
    "In a box plot, descriptive statistics within each category are computed and shown using a box and whiskers. Each line denotes a quartile range (25th, 50th, and 75th percentiles). Whiskers are extended from the top and bottom of the boxes to indicate the largest and smallest values.\n",
    "\n",
    "Box plots often have outliers plotted as points beyond the ends of the whiskers. The most common upper bound on the length of the whiskers is 1.5 times the interquartile range or box length."
   ]
  },
  {
   "cell_type": "code",
   "execution_count": null,
   "metadata": {},
   "outputs": [],
   "source": []
  }
 ],
 "metadata": {
  "kernelspec": {
   "display_name": "Python 3 (ipykernel)",
   "language": "python",
   "name": "python3"
  },
  "language_info": {
   "codemirror_mode": {
    "name": "ipython",
    "version": 3
   },
   "file_extension": ".py",
   "mimetype": "text/x-python",
   "name": "python",
   "nbconvert_exporter": "python",
   "pygments_lexer": "ipython3",
   "version": "3.10.13"
  }
 },
 "nbformat": 4,
 "nbformat_minor": 4
}
