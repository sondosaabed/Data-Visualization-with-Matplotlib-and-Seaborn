{
 "cells": [
  {
   "cell_type": "markdown",
   "metadata": {},
   "source": [
    "# 04 - Heat Maps (2d histograms)"
   ]
  },
  {
   "cell_type": "code",
   "execution_count": null,
   "metadata": {},
   "outputs": [],
   "source": [
    "import numpy as np\n",
    "import pandas as pd\n",
    "\n",
    "import matplotlib.pyplot as plt\n",
    "import seaborn as sns"
   ]
  },
  {
   "cell_type": "markdown",
   "metadata": {},
   "source": [
    "Let's look at a type bivariate plot type called a heatmap. It can be thought of as a 2d histogram or even color coded table.\n",
    "\n",
    "Let's start by loading in our data."
   ]
  },
  {
   "cell_type": "code",
   "execution_count": null,
   "metadata": {},
   "outputs": [],
   "source": [
    "df = pd.read_csv('..//data/fuel-econ.csv')\n",
    "df.shape"
   ]
  },
  {
   "cell_type": "code",
   "execution_count": null,
   "metadata": {},
   "outputs": [],
   "source": [
    "df.head(5)"
   ]
  },
  {
   "cell_type": "markdown",
   "metadata": {},
   "source": [
    "## Introduction to heatmaps"
   ]
  },
  {
   "cell_type": "markdown",
   "metadata": {},
   "source": [
    "In a heatmap, the field is divided into a grid of cells like this, much like a 2d histogram. Each cell is assigned a color based on the value count inside. \n",
    "\n",
    "In this example, the more data points in a grid cell, the darker the color. You can think of a basic heatmap like a 2D version of a histogram, looking at the data from a top-down perspective."
   ]
  },
  {
   "cell_type": "code",
   "execution_count": null,
   "metadata": {},
   "outputs": [],
   "source": [
    "plt.hist2d(data=df, x='displ', y='comb')\n",
    "plt.colorbar()\n",
    "plt.xlabel('Displacement (1)')\n",
    "plt.ylabel('Combined Fuel Eff. (mpg)');"
   ]
  },
  {
   "cell_type": "markdown",
   "metadata": {},
   "source": [
    "## Heatmap as a histogram"
   ]
  },
  {
   "cell_type": "markdown",
   "metadata": {},
   "source": [
    "We CAN assign bin widths to heatmaps. Like histograms, you need to think carefully about the bin sizes you want. \n",
    "\n",
    "You can set the `cmin` parameter to determine the minimum value that will display a color."
   ]
  },
  {
   "cell_type": "code",
   "execution_count": null,
   "metadata": {},
   "outputs": [],
   "source": [
    "# Specify bin edges \n",
    "bins_x = np.arange(0.6, 7+0.3, 0.3)\n",
    "bins_y = np.arange(12, 58+3, 3)\n",
    "\n",
    "plt.hist2d(data=df, x='displ', y='comb', cmin=0.5, cmap='viridis_r', bins=[bins_x, bins_y])\n",
    "plt.colorbar()\n",
    "plt.xlabel('Displacement (1)')\n",
    "plt.ylabel('Combined Fuel Eff. (mpg)');"
   ]
  },
  {
   "cell_type": "markdown",
   "metadata": {},
   "source": [
    "## Adding cell annotations and summary"
   ]
  },
  {
   "cell_type": "markdown",
   "metadata": {},
   "source": [
    "You can also annotate each cell with the value count. In this view, the heatmap is also like a table, with additional coloring coding for emphasis.\n",
    "\n",
    "For annotated 2d histograms, you have to loop through each cell to display the value. This can be tedious, but it's okay to re-use this code when making other plots!"
   ]
  },
  {
   "cell_type": "code",
   "execution_count": null,
   "metadata": {},
   "outputs": [],
   "source": [
    "# Specify bin edges \n",
    "bins_x = np.arange(0.6, 7+0.7, 0.7)\n",
    "bins_y = np.arange(12, 58+7, 7)\n",
    "# Use cmin to set a minimum bound of counts \n",
    "# Use cmap to reverse the color map. \n",
    "h2d = plt.hist2d(data=df, x ='displ', y='comb', cmin=0.5, cmap='viridis_r', bins=[bins_x, bins_y])\n",
    "\n",
    "plt.colorbar()\n",
    "plt.xlabel('Displacement (1)')\n",
    "plt.ylabel('Combined Fuel Eff. (mpg)');\n",
    "\n",
    "# Select the bi-dimensional histogram, a 2D array of samples x and y. \n",
    "# Values in x are histogrammed along the first dimension and \n",
    "# values in y are histogrammed along the second dimension.\n",
    "counts = h2d[0]\n",
    "\n",
    "# Add text annotation on each cell\n",
    "# Loop through the cell counts and add text annotations for each\n",
    "for i in range(counts.shape[0]):\n",
    "    for j in range(counts.shape[1]):\n",
    "        c = counts[i,j]\n",
    "        if c >= 100: # increase visibility on darker cells\n",
    "            plt.text(bins_x[i]+0.35, bins_y[j]+3.5, int(c),\n",
    "                     ha = 'center', va = 'center', color = 'white')\n",
    "        elif c > 0:\n",
    "            plt.text(bins_x[i]+0.35, bins_y[j]+3.5, int(c),\n",
    "                     ha = 'center', va = 'center', color = 'black')"
   ]
  },
  {
   "cell_type": "markdown",
   "metadata": {},
   "source": [
    "A heatmap is favored over a scatter plot when you have two discrete variables, since the associated jittered scatter plot can already be imprecise."
   ]
  },
  {
   "cell_type": "code",
   "execution_count": null,
   "metadata": {},
   "outputs": [],
   "source": []
  }
 ],
 "metadata": {
  "kernelspec": {
   "display_name": "Python 3 (ipykernel)",
   "language": "python",
   "name": "python3"
  },
  "language_info": {
   "codemirror_mode": {
    "name": "ipython",
    "version": 3
   },
   "file_extension": ".py",
   "mimetype": "text/x-python",
   "name": "python",
   "nbconvert_exporter": "python",
   "pygments_lexer": "ipython3",
   "version": "3.10.13"
  }
 },
 "nbformat": 4,
 "nbformat_minor": 4
}
