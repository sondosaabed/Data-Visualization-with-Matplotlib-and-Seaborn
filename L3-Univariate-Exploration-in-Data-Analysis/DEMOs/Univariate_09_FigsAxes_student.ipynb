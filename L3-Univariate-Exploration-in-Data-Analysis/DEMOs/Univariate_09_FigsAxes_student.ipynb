{
 "cells": [
  {
   "cell_type": "markdown",
   "metadata": {},
   "source": [
    "# 09 - Figures, Axes, and Subplots"
   ]
  },
  {
   "cell_type": "markdown",
   "metadata": {},
   "source": [
    "This lesson goes into a bit more detail about the concepts of Figures, Axes, and Subplots in matplotlib. This is an area of much confusion because it's not always made clear what the difference between a Figure object and axis is, and how to interact with plots. But don't worry! We'll start simple and build-up from there.\n",
    "\n",
    "This is also a good time to note that Seaborn is actually built on-top of matplotlib. Anything you can do with matplotlib, you can do to seaborn with a little work."
   ]
  },
  {
   "cell_type": "code",
   "execution_count": null,
   "metadata": {},
   "outputs": [],
   "source": [
    "import numpy as np\n",
    "import pandas as pd\n",
    "\n",
    "import matplotlib.pyplot as plt\n",
    "import seaborn as sns"
   ]
  },
  {
   "cell_type": "code",
   "execution_count": null,
   "metadata": {},
   "outputs": [],
   "source": [
    "df = pd.read_csv('..//data/diamonds.csv')\n",
    "df.shape"
   ]
  },
  {
   "cell_type": "code",
   "execution_count": null,
   "metadata": {},
   "outputs": [],
   "source": [
    "df.head(5)"
   ]
  },
  {
   "cell_type": "markdown",
   "metadata": {},
   "source": [
    "## Figure Objects\n",
    "\n",
    "The normal way most people interact with pyplot (the main library of matplotlib) is through the `plt` functions. When you begin plotting anything, the first thing that happens is a `Figure` object is created. \n",
    "\n",
    "For instance, when plotting a histogram, it creates a `Figure`, and then draws the set of axes, and finally the histogram. It does all of this at once \"under the hood.\""
   ]
  },
  {
   "cell_type": "code",
   "execution_count": null,
   "metadata": {},
   "outputs": [],
   "source": [
    "plt.hist(data=df, x='x');"
   ]
  },
  {
   "cell_type": "markdown",
   "metadata": {},
   "source": [
    "We can start by just creating a figure directly. Note the plotting details describe something is created."
   ]
  },
  {
   "cell_type": "code",
   "execution_count": null,
   "metadata": {},
   "outputs": [],
   "source": [
    "plt.figure(figsize=(4, 3))"
   ]
  },
  {
   "cell_type": "markdown",
   "metadata": {},
   "source": [
    "If we want to go further, we can specifically set axis locations."
   ]
  },
  {
   "cell_type": "code",
   "execution_count": null,
   "metadata": {},
   "outputs": [],
   "source": [
    "# Create a new figure\n",
    "fig = plt.figure(figsize=(4, 3))\n",
    "\n",
    "# The argument of add_axes represents the dimensions [left, bottom, width, height] of the new axes. \n",
    "# All quantities are in fractions of figure width and height.\n",
    "ax = fig.add_axes([.125, .125, .775, .755])\n",
    "ax.hist(data=df, x='x');"
   ]
  },
  {
   "cell_type": "markdown",
   "metadata": {},
   "source": [
    "### Sub-plots\n",
    "\n",
    "Now if you want to create two sub-plots within a `Figure`, you can use the `plt.subplot()` method. This specifies N rows, M columns, and then is used to iterate through each."
   ]
  },
  {
   "cell_type": "code",
   "execution_count": null,
   "metadata": {},
   "outputs": [],
   "source": [
    "# Resize the chart, and have two plots side-by-side\n",
    "# set a larger figure size for subplots\n",
    "plt.figure(figsize = [8, 5]) \n",
    "\n",
    "# histogram on left, example of too-large bin size\n",
    "# 2 row, 2 cols, subplot 1\n",
    "plt.subplot(2, 2, 1) \n",
    "bins = np.arange(0, df['x'].max()+1/4, 1/4)\n",
    "plt.hist(data=df, x='x', bins=bins);\n",
    "\n",
    "# histogram on right, example of too-small bin size\n",
    "plt.subplot(2, 2, 4) # 2 row, 2 cols, subplot 4\n",
    "bins = np.arange(0, df['x'].max()+1/4, 1/4)\n",
    "plt.hist(data=df, x='x', bins=bins);"
   ]
  },
  {
   "cell_type": "markdown",
   "metadata": {},
   "source": [
    "## Axes objects\n",
    "\n",
    "That said, there is another way to interact with plots, interacting with the specific axis object. When you create a plot, you can use `plt.gca()` (`gca` stands for \"get current axis\") to retrieve the axis and interact directly with the axis."
   ]
  },
  {
   "cell_type": "code",
   "execution_count": null,
   "metadata": {},
   "outputs": [],
   "source": [
    "plt.hist(data=df, x='x');\n",
    "plt.xlabel('My x axis title')"
   ]
  },
  {
   "cell_type": "code",
   "execution_count": null,
   "metadata": {
    "scrolled": false
   },
   "outputs": [],
   "source": [
    "plt.hist(data=df, x='x');\n",
    "ax = plt.gca()\n",
    "ax.set_xlabel('My x axis title')"
   ]
  },
  {
   "cell_type": "markdown",
   "metadata": {},
   "source": [
    "Note the difference is a slightly different calling syntax. One can interact with the figure directly, via `plt`.\n",
    "\n",
    "If you have a specific axis, you can operate directly on it."
   ]
  },
  {
   "cell_type": "markdown",
   "metadata": {},
   "source": [
    "This is convenient: if you want to create subplots, you can act on them individually, and using `plt.subplots()` you can operate at them in any order you want. Note the syntax is N rows, M columns, as before.\n",
    "\n",
    "Note you can specify the axis to plot on in Seaborn calls."
   ]
  },
  {
   "cell_type": "code",
   "execution_count": null,
   "metadata": {},
   "outputs": [],
   "source": [
    "fig, (ax1, ax2) = plt.subplots(1, 2, figsize=(10,3))\n",
    "sns.countplot(data=df, x='cut', color='tab:blue', ax=ax1)\n",
    "sns.countplot(data=df, x='clarity', color='tab:red', ax=ax2)"
   ]
  },
  {
   "cell_type": "markdown",
   "metadata": {},
   "source": [
    "Alternatively, seaborn typically returns the axis so you can quickly operate on it to change the axis or something."
   ]
  },
  {
   "cell_type": "code",
   "execution_count": null,
   "metadata": {},
   "outputs": [],
   "source": [
    "ax = sns.countplot(data=df, x='cut', color='tab:blue')\n",
    "ax.set_xlabel('My x axis label!')"
   ]
  },
  {
   "cell_type": "code",
   "execution_count": null,
   "metadata": {},
   "outputs": [],
   "source": []
  }
 ],
 "metadata": {
  "kernelspec": {
   "display_name": "Python 3 (ipykernel)",
   "language": "python",
   "name": "python3"
  },
  "language_info": {
   "codemirror_mode": {
    "name": "ipython",
    "version": 3
   },
   "file_extension": ".py",
   "mimetype": "text/x-python",
   "name": "python",
   "nbconvert_exporter": "python",
   "pygments_lexer": "ipython3",
   "version": "3.10.13"
  }
 },
 "nbformat": 4,
 "nbformat_minor": 4
}
